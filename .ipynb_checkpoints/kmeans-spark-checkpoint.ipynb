{
 "cells": [
  {
   "cell_type": "code",
   "execution_count": 1,
   "metadata": {},
   "outputs": [],
   "source": [
    "from pyspark import SparkContext\n",
    "import pyspark"
   ]
  },
  {
   "cell_type": "code",
   "execution_count": 2,
   "metadata": {},
   "outputs": [],
   "source": [
    "from pyspark import SparkContext\n",
    "sc = SparkContext.getOrCreate()"
   ]
  },
  {
   "cell_type": "code",
   "execution_count": 17,
   "metadata": {},
   "outputs": [
    {
     "name": "stdout",
     "output_type": "stream",
     "text": [
      "+---+-----------+-------+-------------+-------------+-------+----+------------------------+---+-------+\n",
      "| id|Pregnancies|Glucose|BloodPressure|SkinThickness|Insulin| BMI|DiabetesPedigreeFunction|Age|Outcome|\n",
      "+---+-----------+-------+-------------+-------------+-------+----+------------------------+---+-------+\n",
      "|  0|          6|    148|           72|           35|      0|33.6|                   0.627| 50|      1|\n",
      "|  1|          1|     85|           66|           29|      0|26.6|                   0.351| 31|      0|\n",
      "|  2|          8|    183|           64|            0|      0|23.3|                   0.672| 32|      1|\n",
      "|  3|          1|     89|           66|           23|     94|28.1|                   0.167| 21|      0|\n",
      "|  4|          0|    137|           40|           35|    168|43.1|                   2.288| 33|      1|\n",
      "|  5|          5|    116|           74|            0|      0|25.6|                   0.201| 30|      0|\n",
      "|  6|          3|     78|           50|           32|     88|  31|                   0.248| 26|      1|\n",
      "|  7|         10|    115|            0|            0|      0|35.3|                   0.134| 29|      0|\n",
      "|  8|          2|    197|           70|           45|    543|30.5|                   0.158| 53|      1|\n",
      "|  9|          8|    125|           96|            0|      0|   0|                   0.232| 54|      1|\n",
      "| 10|          4|    110|           92|            0|      0|37.6|                   0.191| 30|      0|\n",
      "| 11|         10|    168|           74|            0|      0|  38|                   0.537| 34|      1|\n",
      "| 12|         10|    139|           80|            0|      0|27.1|                   1.441| 57|      0|\n",
      "| 13|          1|    189|           60|           23|    846|30.1|                   0.398| 59|      1|\n",
      "| 14|          5|    166|           72|           19|    175|25.8|                   0.587| 51|      1|\n",
      "| 15|          7|    100|            0|            0|      0|  30|                   0.484| 32|      1|\n",
      "| 16|          0|    118|           84|           47|    230|45.8|                   0.551| 31|      1|\n",
      "| 17|          7|    107|           74|            0|      0|29.6|                   0.254| 31|      1|\n",
      "| 18|          1|    103|           30|           38|     83|43.3|                   0.183| 33|      0|\n",
      "| 19|          1|    115|           70|           30|     96|34.6|                   0.529| 32|      1|\n",
      "+---+-----------+-------+-------------+-------------+-------+----+------------------------+---+-------+\n",
      "only showing top 20 rows\n",
      "\n"
     ]
    }
   ],
   "source": [
    "from numpy import array\n",
    "from math import sqrt\n",
    "from numpy import genfromtxt\n",
    "import pandas as pd\n",
    "from pyspark.mllib.clustering import KMeans\n",
    "\n",
    "sqlContext = SQLContext(sc)\n",
    "\n",
    "#Load and parse the data\n",
    "dataset = sqlContext.read.format('com.databricks.spark.csv').options(header='true').load('/home/munindra/Desktop/Final_Yr_Proj/diabetes.csv')\n",
    "df = pd.read_csv('/home/munindra/Desktop/Final_Yr_Proj/diabetes.csv',delimiter=',') # path to file here\n",
    "\n",
    "label = df.as_matrix(columns=df.columns[9:])\n",
    "label = label.ravel()\n",
    "dataset = dataset.na.drop()\n",
    "\n",
    "dataset.show()"
   ]
  },
  {
   "cell_type": "code",
   "execution_count": 25,
   "metadata": {},
   "outputs": [
    {
     "data": {
      "text/plain": [
       "Row(Pregnancies=6.0, Glucose=148.0, BloodPressure=72.0, SkinThickness=35.0, Insulin=0.0, BMI=33.599998474121094, DiabetesPedigreeFunction=0.6269999742507935, Age=50.0, id=0)"
      ]
     },
     "execution_count": 25,
     "metadata": {},
     "output_type": "execute_result"
    }
   ],
   "source": [
    "dft = dataset.select(*(dataset[c].cast(\"float\").alias(c) for c in dataset.columns[1:]))\n",
    "\n",
    "from pyspark.sql.functions import monotonically_increasing_id \n",
    "\n",
    "dft = dft.select(\"*\").withColumn(\"id\", monotonically_increasing_id())\n",
    "\n",
    "#split outcome\n",
    "label = dft[[\"Outcome\"]]\n",
    "dft = dft.drop('Outcome')\n",
    "dft.head()"
   ]
  },
  {
   "cell_type": "code",
   "execution_count": 26,
   "metadata": {},
   "outputs": [
    {
     "name": "stdout",
     "output_type": "stream",
     "text": [
      "+-----------+-------+-------------+-------------+-------+----+------------------------+----+---+--------------------+\n",
      "|Pregnancies|Glucose|BloodPressure|SkinThickness|Insulin| BMI|DiabetesPedigreeFunction| Age| id|            features|\n",
      "+-----------+-------+-------------+-------------+-------+----+------------------------+----+---+--------------------+\n",
      "|        6.0|  148.0|         72.0|         35.0|    0.0|33.6|                   0.627|50.0|  0|[6.0,148.0,72.0,3...|\n",
      "|        1.0|   85.0|         66.0|         29.0|    0.0|26.6|                   0.351|31.0|  1|[1.0,85.0,66.0,29...|\n",
      "|        8.0|  183.0|         64.0|          0.0|    0.0|23.3|                   0.672|32.0|  2|[8.0,183.0,64.0,0...|\n",
      "|        1.0|   89.0|         66.0|         23.0|   94.0|28.1|                   0.167|21.0|  3|[1.0,89.0,66.0,23...|\n",
      "|        0.0|  137.0|         40.0|         35.0|  168.0|43.1|                   2.288|33.0|  4|[0.0,137.0,40.0,3...|\n",
      "+-----------+-------+-------------+-------------+-------+----+------------------------+----+---+--------------------+\n",
      "only showing top 5 rows\n",
      "\n"
     ]
    }
   ],
   "source": [
    "from pyspark.ml.feature import VectorAssembler # in spark api we have to convert data to vectors in order to run the model.\n",
    "# kmeans is imported from pyspark.ml.clustering\n",
    "from pyspark.ml.clustering import KMeans\n",
    "\n",
    "# creating an instance of the vector assembler \n",
    "assembler = VectorAssembler(inputCols = dft.columns, outputCol = 'features')\n",
    "\n",
    "# transforming dataframe into vector assembler \n",
    "final_df = assembler.transform(dft)\n",
    "final_df.drop('Outcome')\n",
    "\n",
    "final_df.show(5)"
   ]
  },
  {
   "cell_type": "code",
   "execution_count": 27,
   "metadata": {},
   "outputs": [
    {
     "name": "stdout",
     "output_type": "stream",
     "text": [
      "+-----------+-------+-------------+-------------+-------+----+------------------------+----+---+--------------------+--------------------+\n",
      "|Pregnancies|Glucose|BloodPressure|SkinThickness|Insulin| BMI|DiabetesPedigreeFunction| Age| id|            features|      scaledFeatures|\n",
      "+-----------+-------+-------------+-------------+-------+----+------------------------+----+---+--------------------+--------------------+\n",
      "|        6.0|  148.0|         72.0|         35.0|    0.0|33.6|                   0.627|50.0|  0|[6.0,148.0,72.0,3...|[1.78063837321943...|\n",
      "|        1.0|   85.0|         66.0|         29.0|    0.0|26.6|                   0.351|31.0|  1|[1.0,85.0,66.0,29...|[0.29677306220323...|\n",
      "|        8.0|  183.0|         64.0|          0.0|    0.0|23.3|                   0.672|32.0|  2|[8.0,183.0,64.0,0...|[2.37418449762590...|\n",
      "|        1.0|   89.0|         66.0|         23.0|   94.0|28.1|                   0.167|21.0|  3|[1.0,89.0,66.0,23...|[0.29677306220323...|\n",
      "|        0.0|  137.0|         40.0|         35.0|  168.0|43.1|                   2.288|33.0|  4|[0.0,137.0,40.0,3...|[0.0,4.2849165233...|\n",
      "|        5.0|  116.0|         74.0|          0.0|    0.0|25.6|                   0.201|30.0|  5|[5.0,116.0,74.0,0...|[1.48386531101619...|\n",
      "+-----------+-------+-------------+-------------+-------+----+------------------------+----+---+--------------------+--------------------+\n",
      "only showing top 6 rows\n",
      "\n"
     ]
    }
   ],
   "source": [
    "# in clustering we have to scale the features so as to reduce the distance and which helps in computation become faster\n",
    "from pyspark.ml.feature import StandardScaler\n",
    "\n",
    "# created instance of the standard scaler\n",
    "scaler = StandardScaler(inputCol = 'features', outputCol = 'scaledFeatures')\n",
    "\n",
    "#fitting the vector data and transforming with scaler transformation\n",
    "scaler_model = scaler.fit(final_df)\n",
    "final_df = scaler_model.transform(final_df)\n",
    "final_df.show(6)"
   ]
  },
  {
   "cell_type": "code",
   "execution_count": 28,
   "metadata": {},
   "outputs": [
    {
     "name": "stdout",
     "output_type": "stream",
     "text": [
      "K means from spark took 1.5304 seconds(k = 2.0000)\n",
      "K means from spark took 0.8338 seconds(k = 3.0000)\n",
      "K means from spark took 0.9199 seconds(k = 4.0000)\n",
      "K means from spark took 0.8871 seconds(k = 5.0000)\n",
      "K means from spark took 1.1238 seconds(k = 6.0000)\n",
      "K means from spark took 1.0188 seconds(k = 7.0000)\n",
      "K means from spark took 1.0170 seconds(k = 8.0000)\n",
      "K means from spark took 1.2007 seconds(k = 9.0000)\n",
      "K means from spark took 0.9211 seconds(k = 10.0000)\n",
      "K means from spark took 0.8699 seconds(k = 11.0000)\n",
      "K means from spark took 0.8554 seconds(k = 12.0000)\n",
      "K means from spark took 0.7545 seconds(k = 13.0000)\n",
      "K means from spark took 0.9087 seconds(k = 14.0000)\n",
      "K means from spark took 0.7456 seconds(k = 15.0000)\n",
      "K means from spark took 0.9160 seconds(k = 16.0000)\n",
      "K means from spark took 0.7639 seconds(k = 17.0000)\n",
      "K means from spark took 0.8483 seconds(k = 18.0000)\n",
      "K means from spark took 0.9783 seconds(k = 19.0000)\n"
     ]
    }
   ],
   "source": [
    "import numpy as np\n",
    "import matplotlib.pyplot as plt\n",
    "from time import time\n",
    "\n",
    "\n",
    "cost = np.zeros(20)\n",
    "for k in range(2,20):\n",
    "    start = time()\n",
    "    kmeans = KMeans().setK(k).setSeed(1).setFeaturesCol(\"features\")\n",
    "    model = kmeans.fit(final_df.sample(False,0.1, seed=42))\n",
    "    cost[k] = model.computeCost(final_df)\n",
    "    end = time()\n",
    "    print (\"K means from spark took {:.4f} seconds(k = {:.4f})\".format(end - start,k))\n"
   ]
  },
  {
   "cell_type": "code",
   "execution_count": 8,
   "metadata": {},
   "outputs": [
    {
     "data": {
      "text/plain": [
       "<matplotlib.text.Text at 0x7f734e5eba90>"
      ]
     },
     "execution_count": 8,
     "metadata": {},
     "output_type": "execute_result"
    },
    {
     "data": {
      "image/png": "[encoded data removed]",
      "text/plain": [
       "<matplotlib.figure.Figure at 0x7f734e5f6850>"
      ]
     },
     "metadata": {},
     "output_type": "display_data"
    }
   ],
   "source": [
    "fig, ax = plt.subplots(1,1, figsize =(8,6))\n",
    "ax.plot(range(2,20),cost[2:20])\n",
    "ax.set_xlabel('k')\n",
    "ax.set_ylabel('cost')"
   ]
  },
  {
   "cell_type": "code",
   "execution_count": 39,
   "metadata": {},
   "outputs": [
    {
     "name": "stdout",
     "output_type": "stream",
     "text": [
      "Cluster Centers: \n",
      "[  2.91666667 138.25        72.83333333  33.70833333 220.875\n",
      "  37.02916678   0.597625    32.16666667 407.16666667]\n",
      "[  4.54166667 111.38888889  66.54166667  13.          10.23611111\n",
      "  29.44722226   0.44433334  32.83333333  55.61111111]\n",
      "[2.76315789e+00 1.21105263e+02 6.83157895e+01 2.61842105e+01\n",
      " 1.32184211e+02 3.16631580e+01 4.67421054e-01 2.93684211e+01\n",
      " 5.97263158e+02]\n",
      "[  4.04081633 137.83673469  65.20408163   9.87755102   0.\n",
      "  32.47142854   0.43987755  36.40816327 260.18367347]\n",
      "[  4.28571429 132.82857143  70.68571429  27.4        169.25714286\n",
      "  33.32285712   0.60431428  33.22857143 292.54285714]\n",
      "[  2.88888889 158.77777778  75.55555556  36.11111111 553.55555556\n",
      "  37.47777854   0.89822223  28.55555556 379.66666667]\n",
      "[4.43478261e+00 1.20108696e+02 7.11521739e+01 1.52173913e+01\n",
      " 5.39130435e+00 3.22000000e+01 4.07521740e-01 3.63043478e+01\n",
      " 7.31086957e+02]\n",
      "[3.84615385e+00 1.27358974e+02 7.44615385e+01 3.19743590e+01\n",
      " 1.54692308e+02 3.52589741e+01 5.19051286e-01 3.24871795e+01\n",
      " 7.08974359e+02]\n",
      "[4.30158730e+00 1.02809524e+02 6.51428571e+01 1.66031746e+01\n",
      " 1.51587302e+01 3.07730158e+01 3.95666668e-01 3.49206349e+01\n",
      " 5.46253968e+02]\n",
      "[4.09090909e+00 1.18600000e+02 6.80909091e+01 1.15454545e+01\n",
      " 8.41818182e+00 2.98054545e+01 4.16418182e-01 3.33454545e+01\n",
      " 6.41654545e+02]\n",
      "[  1.92307692  89.57692308  70.84615385  27.92307692  45.84615385\n",
      "  31.15384608   0.4715      25.46153846 235.53846154]\n",
      "[  4.07142857 124.28571429  72.39285714  31.75       157.25\n",
      "  34.51785701   0.56364286  34.          45.42857143]\n",
      "[  4.5        159.94444444  69.22222222  32.77777778 404.83333333\n",
      "  34.65555573   0.43011111  38.88888889 152.05555556]\n",
      "[  3.22368421 118.28947368  66.84210526  18.57894737  32.73684211\n",
      "  30.05789473   0.47786842  33.09210526 453.32894737]\n",
      "[  4.08108108 128.32432432  69.48648649  32.13513514 134.13513514\n",
      "  35.31891905   0.53124324  31.         158.45945946]\n",
      "[2.87500000e+00 1.55125000e+02 6.52500000e+01 2.71250000e+01\n",
      " 4.21875000e+02 3.47125006e+01 2.96624996e-01 2.81250000e+01\n",
      " 6.99125000e+02]\n",
      "[  3.94545455 113.27272727  70.50909091  11.89090909   6.49090909\n",
      "  30.98909094   0.40141818  33.27272727 153.49090909]\n",
      "[  3.94117647 108.73529412  69.66176471  18.39705882  34.30882353\n",
      "  31.01617662   0.45292647  33.66176471 357.82352941]\n",
      "[  3.54545455 149.63636364  75.45454545  32.18181818 237.36363636\n",
      "  33.9318181    0.62222728  35.54545455 538.63636364]\n"
     ]
    }
   ],
   "source": [
    "best_k = 15 # choose best k from elbow curve\n",
    "kmeans = KMeans().setK(k).setSeed(1).setFeaturesCol(\"features\")\n",
    "model = kmeans.fit(final_df)\n",
    "centers = model.clusterCenters()\n",
    "\n",
    "print(\"Cluster Centers: \")\n",
    "for center in centers:\n",
    "    print(center)"
   ]
  },
  {
   "cell_type": "code",
   "execution_count": 40,
   "metadata": {},
   "outputs": [],
   "source": [
    "predicts = model.transform(final_df)"
   ]
  },
  {
   "cell_type": "code",
   "execution_count": 1,
   "metadata": {},
   "outputs": [],
   "source": [
    "#predicts.show(40)\n",
    "#df.select(\"prediction\").collect()"
   ]
  },
  {
   "cell_type": "code",
   "execution_count": null,
   "metadata": {},
   "outputs": [],
   "source": []
  }
 ],
 "metadata": {
  "kernelspec": {
   "display_name": "Python 2",
   "language": "python",
   "name": "python2"
  },
  "language_info": {
   "codemirror_mode": {
    "name": "ipython",
    "version": 2
   },
   "file_extension": ".py",
   "mimetype": "text/x-python",
   "name": "python",
   "nbconvert_exporter": "python",
   "pygments_lexer": "ipython2",
   "version": "2.7.12"
  }
 },
 "nbformat": 4,
 "nbformat_minor": 2
}
